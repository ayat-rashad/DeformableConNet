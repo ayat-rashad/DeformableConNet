{
 "cells": [
  {
   "cell_type": "code",
   "execution_count": null,
   "metadata": {},
   "outputs": [],
   "source": [
    "import matplotlib.pyplot as plt\n",
    "import matplotlib.patches as patches\n",
    "import random\n",
    "from PIL import Image\n",
    "import numpy as np\n",
    "%matplotlib inline"
   ]
  },
  {
   "cell_type": "code",
   "execution_count": null,
   "metadata": {},
   "outputs": [],
   "source": [
    "import torch\n",
    "from torchvision import datasets, transforms, models\n",
    "data_root = \"./data/\""
   ]
  },
  {
   "cell_type": "code",
   "execution_count": null,
   "metadata": {},
   "outputs": [],
   "source": [
    "def load_data(dataset):\n",
    "    data_path = data_root\n",
    "    ann_path = data_root\n",
    "    \n",
    "    if 'coco' in dataset:\n",
    "        data_path = data_root+'coco/train2017'\n",
    "        ann_path = data_root+'coco/annotations/instances_train2017.json'\n",
    "        data_train = datasets.CocoDetection(root = data_path, annFile = ann_path)\n",
    "    elif 'voc' in dataset:\n",
    "        year = dataset[3:]\n",
    "        assert year in ['2007', '2012'] , 'Only support voc2007 and voc2012'\n",
    "        \n",
    "        data_train = datasets.VOCDetection(root = data_root, year=year, image_set='train', download=False)\n",
    "    else:\n",
    "        assert False, \"Dataset is not recognize. It is neiter coco, voc2007, nor voc2012\"\n",
    "    \n",
    "    return data_train"
   ]
  },
  {
   "cell_type": "code",
   "execution_count": null,
   "metadata": {},
   "outputs": [],
   "source": [
    "def preview_data(dataset):\n",
    "    n = np.random.randint(len(dataset))\n",
    "    image, label = dataset[n]\n",
    "    ds = 'coco' if 'annotation' not in label else 'voc'\n",
    "        \n",
    "    # Get bounding boxes and their categories\n",
    "    if ds == 'coco':\n",
    "        with open(data_root+'coco/annotations/coco-labels-paper.txt', 'r') as f:\n",
    "            coco_labels = f.read().splitlines()\n",
    "        bboxes = np.zeros((len(label), 4))\n",
    "        cats = np.zeros((len(label), 1), dtype='U10')\n",
    "        \n",
    "        for i, item in enumerate(label):\n",
    "            bboxes[i] = label[i]['bbox']\n",
    "        for i, item in enumerate(label):\n",
    "            cats[i] = coco_labels[int(label[i]['category_id'])-1]\n",
    "        \n",
    "    else:\n",
    "        bboxes = np.zeros((len(label['annotation']['object']), 4))\n",
    "        cats = np.empty((len(label['annotation']['object']), 1), dtype='U10')\n",
    "        \n",
    "        if type(label['annotation']['object']) is list:\n",
    "            for i, el in enumerate(label['annotation']['object']):\n",
    "                cats[i] = el['name']\n",
    "                bboxes[i] = list(el['bndbox'].values())\n",
    "        else:\n",
    "            cats[0] = label['annotation']['object']['name']\n",
    "            bboxes[0] = list(label['annotation']['object']['bndbox'].values())\n",
    "            \n",
    "    # Get bounding box colors\n",
    "    num_class = len(cats)\n",
    "    colors = np.random.rand(num_class)\n",
    "    cmap = plt.get_cmap('tab20')\n",
    "    bbox_colors = [cmap(i) for i in colors]\n",
    "    color = {}\n",
    "    \n",
    "    img = np.array(image)\n",
    "    plt.figure()\n",
    "    fig, ax = plt.subplots(1, figsize=(12,9))\n",
    "    ax.imshow(img)\n",
    "\n",
    "    for bbox, cat in zip(bboxes, cats):\n",
    "        for el in bbox_colors: \n",
    "            if color.get(cat.item()) == None:\n",
    "                color[cat.item()] = bbox_colors[0]\n",
    "                bbox_colors.remove(bbox_colors[0])\n",
    "        c = color.get(cat.item())\n",
    "        \n",
    "        x0 = bbox[0]\n",
    "        y0 = bbox[1]\n",
    "        x1 = bbox[2] if ds == 'coco' else bbox[2]-bbox[0]\n",
    "        y1 = bbox[3] if ds == 'coco' else bbox[3]-bbox[1]\n",
    "\n",
    "        box = patches.Rectangle((x0, y0), x1, y1, linewidth=4, edgecolor=c, facecolor='none')\n",
    "        ax.add_patch(box)\n",
    "        plt.text(x0, y0, s=cat.item(), \n",
    "                 color='black', verticalalignment='top', bbox={'color': c, 'pad': 0})\n",
    "\n",
    "    plt.axis('off')\n",
    "    plt.show()"
   ]
  },
  {
   "cell_type": "markdown",
   "metadata": {},
   "source": [
    "## Preview data"
   ]
  },
  {
   "cell_type": "code",
   "execution_count": null,
   "metadata": {},
   "outputs": [],
   "source": [
    "coco_train = load_data(dataset='coco')\n",
    "voc2007_train = load_data(dataset='voc2007')\n",
    "voc2012_train = load_data(dataset='voc2012')"
   ]
  },
  {
   "cell_type": "code",
   "execution_count": null,
   "metadata": {},
   "outputs": [],
   "source": [
    "print('coco')\n",
    "preview_data(coco_train)\n",
    "print('voc2007')\n",
    "preview_data(voc2007_train)\n",
    "print('voc2012')\n",
    "preview_data(voc2012_train)"
   ]
  },
  {
   "cell_type": "code",
   "execution_count": null,
   "metadata": {},
   "outputs": [],
   "source": [
    "#device = torch.device('cpu')\n",
    "#device = torch.device('cuda')"
   ]
  }
 ],
 "metadata": {
  "kernelspec": {
   "display_name": "Python 3",
   "language": "python",
   "name": "python3"
  },
  "language_info": {
   "codemirror_mode": {
    "name": "ipython",
    "version": 3
   },
   "file_extension": ".py",
   "mimetype": "text/x-python",
   "name": "python",
   "nbconvert_exporter": "python",
   "pygments_lexer": "ipython3",
   "version": "3.6.8"
  }
 },
 "nbformat": 4,
 "nbformat_minor": 2
}
